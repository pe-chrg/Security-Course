{
  "nbformat": 4,
  "nbformat_minor": 0,
  "metadata": {
    "colab": {
      "provenance": []
    },
    "kernelspec": {
      "name": "python3",
      "display_name": "Python 3"
    },
    "language_info": {
      "name": "python"
    }
  },
  "cells": [
    {
      "cell_type": "code",
      "source": [
        "def egcd(a, b):\n",
        "    a = a % b\n",
        "    if a == 0:\n",
        "        return (b, 0, 1)\n",
        "    else:\n",
        "        g, y, x = egcd(b % a, a)\n",
        "        return (g, x - (b // a) * y, y)\n",
        "#Through a recursive algorithm I find gcd(a,b) = g as well as x and y\n",
        "#such that a*x + b*y = g = gcd(a, b)\n",
        "\n",
        "def modinv(a, m):\n",
        "    g, x, y = egcd(a, m)\n",
        "    if g != 1:\n",
        "        raise Exception('modular inverse does not exist')\n",
        "    else:\n",
        "        #Here I have x*a + y*m = 1 therefore x mod m is the inverse of a\n",
        "        return x % m"
      ],
      "metadata": {
        "id": "m6u7XqFYvVAJ"
      },
      "execution_count": null,
      "outputs": []
    },
    {
      "cell_type": "code",
      "execution_count": null,
      "metadata": {
        "id": "ZRGaWDECq4Tt"
      },
      "outputs": [],
      "source": [
        "#DOUBLING\n",
        "\n",
        "#I follow the equations from the notes to obtain lambda and v\n",
        "def doubling(x,y,A,B):\n",
        "  l = (3*(x**2) + A) * (modinv(2*y,211)) % 211 #modinv is shown in 1(d)\n",
        "\n",
        "  v = ((-x**3)+A*x+2*B) * (modinv(2*y,211)) % 211 \n",
        "\n",
        "  #I plug everything in to obtain the coordinates of the doubled point\n",
        "  xR = (l**2 - 2*x) % 211\n",
        "  yR = (-(l**3) + (l*(2*x)) - v) % 211\n",
        "  return((xR,yR))\n"
      ]
    },
    {
      "cell_type": "code",
      "source": [
        "#ADDITION\n",
        "\n",
        "#I follow the equations from the notes to obtain lambda and v \n",
        "def addition(x1,y1,x2,y2,A,B):\n",
        "  l = (y1-y2) * (modinv((x1-x2),211)) % 211 #modinv is shown in 1(d)\n",
        "  v = (y2*x1-y1*x2) * (modinv((x1-x2),211)) % 211 \n",
        "\n",
        "  #I plug everything in to obtain the coordinates of the doubled point\n",
        "  xR = (l**2 - x1 - x2) % 211\n",
        "  yR = (-(l**3) + (l*(x1 + x2)) - v) % 211\n",
        "  return((xR,yR))"
      ],
      "metadata": {
        "id": "jQCL7EGSrAqT"
      },
      "execution_count": null,
      "outputs": []
    },
    {
      "cell_type": "markdown",
      "source": [
        "Baby-step Giant-step"
      ],
      "metadata": {
        "id": "dFFvF5rimIuG"
      }
    },
    {
      "cell_type": "code",
      "source": [
        "import math\n",
        "\n",
        "N = 223\n",
        "(p1,p2) = (17,17) \n",
        "(q1,q2) = (2,125)\n",
        "M = 16 # = 2^4\n",
        "#We already have 2^4*P from the doubling algorithm from part (b)\n",
        "(r1,r2)  = (85,137) #this is MP, useful as for Giant steps we compute (Q -16b(P))\n",
        "#for b integers from 1 to 16\n",
        "#Initialising list to add the babysteps to it\n",
        "lst = []\n",
        "#Babysteps\n",
        "for i in range(M):\n",
        "  if i==0:\n",
        "    lst.append((0,0))\n",
        "  elif i==1:\n",
        "    lst.append((p1,p2))\n",
        "  elif i==2:\n",
        "    (x1,x2) = doubling(p1,p2,1,1)\n",
        "    lst.append((x1,x2))\n",
        "  else:\n",
        "    (x1,x2) = addition(x1,x2,p1,p2,1,1)\n",
        "    lst.append((x1,x2))\n",
        "print(lst)\n",
        "\n",
        "#Giantsteps\n",
        "for i in range(1,M): #Goes through the Giantsteps algorithm\n",
        "  (q1,q2) = (addition(q1,q2,r1,-r2,1,1))\n",
        "  #We check if Q -16b(P) (for b=i) matches one of the babysteps\n",
        "  if ((q1,q2) in lst):\n",
        "    index = lst.index((q1,q2))\n",
        "    print(\"Match found for Q-MbP = \", (q1,q2) ,\"where Mb =\",i*16,\",\"\"wich matches to \",index,\"P\")\n",
        "\n",
        "#to check:\n",
        "#Q should be equal to 176P + P = 177P\n",
        "\n",
        "\n"
      ],
      "metadata": {
        "colab": {
          "base_uri": "https://localhost:8080/"
        },
        "id": "83PfYXKHmILg",
        "outputId": "6b3e7ee5-e478-4a3d-97c9-84b2f47445ef"
      },
      "execution_count": null,
      "outputs": [
        {
          "output_type": "stream",
          "name": "stdout",
          "text": [
            "[(0, 0), (17, 17), (49, 159), (182, 108), (91, 56), (183, 78), (69, 91), (201, 62), (113, 143), (133, 200), (115, 174), (38, 85), (44, 197), (171, 152), (142, 168), (34, 84)]\n",
            "Match found for bi = 176 , (17, 17) wich matches to  1 P\n"
          ]
        }
      ]
    },
    {
      "cell_type": "code",
      "source": [],
      "metadata": {
        "id": "Ci11lwM52Suc"
      },
      "execution_count": null,
      "outputs": []
    }
  ]
}