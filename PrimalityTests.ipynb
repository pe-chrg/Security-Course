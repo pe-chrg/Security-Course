{
  "nbformat": 4,
  "nbformat_minor": 0,
  "metadata": {
    "colab": {
      "provenance": []
    },
    "kernelspec": {
      "name": "python3",
      "display_name": "Python 3"
    },
    "language_info": {
      "name": "python"
    }
  },
  "cells": [
    {
      "cell_type": "markdown",
      "source": [
        "Square and Multiply algorithm"
      ],
      "metadata": {
        "id": "7-W7BHpy6lni"
      }
    },
    {
      "cell_type": "code",
      "execution_count": null,
      "metadata": {
        "colab": {
          "base_uri": "https://localhost:8080/"
        },
        "id": "rmlSjU5r6lBi",
        "outputId": "4a410f8f-fda6-4cfe-f50c-4a13b1fcf872"
      },
      "outputs": [
        {
          "output_type": "stream",
          "name": "stdout",
          "text": [
            "The binary expansion of  462605  is [1 1 1 0 0 0 0 1 1 1 1 0 0 0 0 1 1 0 1]\n",
            "we start with  680084\n",
            "The next digit in the binary expansion of  462605  is a 1 so we square  680084  and then multiply it by 680084 to get 668744\n",
            "The next digit in the binary expansion of  462605  is a 1 so we square  668744  and then multiply it by 680084 to get 724268\n",
            "The next digit in the binary expansion of  462605  is a 0 so we square  724268 to get 592852\n",
            "The next digit in the binary expansion of  462605  is a 0 so we square  592852 to get 272980\n",
            "The next digit in the binary expansion of  462605  is a 0 so we square  272980 to get 705160\n",
            "The next digit in the binary expansion of  462605  is a 0 so we square  705160 to get 545224\n",
            "The next digit in the binary expansion of  462605  is a 1 so we square  545224  and then multiply it by 680084 to get 396668\n",
            "The next digit in the binary expansion of  462605  is a 1 so we square  396668  and then multiply it by 680084 to get 115436\n",
            "The next digit in the binary expansion of  462605  is a 1 so we square  115436  and then multiply it by 680084 to get 133328\n",
            "The next digit in the binary expansion of  462605  is a 1 so we square  133328  and then multiply it by 680084 to get 35048\n",
            "The next digit in the binary expansion of  462605  is a 0 so we square  35048 to get 369580\n",
            "The next digit in the binary expansion of  462605  is a 0 so we square  369580 to get 519688\n",
            "The next digit in the binary expansion of  462605  is a 0 so we square  519688 to get 201328\n",
            "The next digit in the binary expansion of  462605  is a 0 so we square  201328 to get 426616\n",
            "The next digit in the binary expansion of  462605  is a 1 so we square  426616  and then multiply it by 680084 to get 88808\n",
            "The next digit in the binary expansion of  462605  is a 1 so we square  88808  and then multiply it by 680084 to get 425816\n",
            "The next digit in the binary expansion of  462605  is a 0 so we square  425816 to get 36100\n",
            "The next digit in the binary expansion of  462605  is a 1 so we square  36100  and then multiply it by 680084 to get 710492\n",
            "710492\n"
          ]
        }
      ],
      "source": [
        "import numpy as np\n",
        "import math\n",
        "#This function changes integers to binary\n",
        "\n",
        "def toBinary(x):\n",
        "  # initializing n\n",
        "  n = 0\n",
        "  bin_x = np.array([])\n",
        "  while (x >= 1):\n",
        "    n = np.array([x % 2])\n",
        "    x = x // 2\n",
        "    bin_x = np.append(bin_x,n)\n",
        "  bin_x = np.flip(bin_x)\n",
        "  bin_x = bin_x.astype('int')\n",
        "  return(bin_x)\n",
        "\n",
        "#Here we use the square multiply algorithm to return a^E mod N\n",
        "\n",
        "def square_multiply(a,E,N):\n",
        "  #First we need to get the binary expansion of E\n",
        "  bin_E = toBinary(E)\n",
        "  #Length helps initialize the for loop\n",
        "  length = np.size(bin_E)\n",
        "  for i in range(length):\n",
        "    if i == 0:\n",
        "      print(\"The binary expansion of \",E,\" is\",bin_E)\n",
        "      a_power_E = a % N\n",
        "      print(\"we start with \",a_power_E)\n",
        "    else:\n",
        "      digit = bin_E[i]\n",
        "      if digit == 0:\n",
        "        a_power_Eprev = a_power_E\n",
        "        a_power_E = (a_power_E**2) % N\n",
        "        print(\"The next digit in the binary expansion of \",E,\" is a 0 so we square \", a_power_Eprev, \"to get\", a_power_E)\n",
        "      else:\n",
        "        a_power_Eprev = a_power_E\n",
        "        a_power_E = (a_power_E**2) % N\n",
        "        a_power_E = (a_power_E * a) % N\n",
        "        print(\"The next digit in the binary expansion of \",E,\" is a 1 so we square \", a_power_Eprev, \" and then multiply it by\", a ,\"to get\", a_power_E)\n",
        "  return(a_power_E)\n",
        "\n",
        "a = square_multiply(680084,462605,797916)\n",
        "print(a)\n",
        "\n"
      ]
    },
    {
      "cell_type": "markdown",
      "source": [
        "TEST"
      ],
      "metadata": {
        "id": "u_njpHOGCIUn"
      }
    },
    {
      "cell_type": "code",
      "source": [
        "import random\n",
        "\n",
        "#Here we find q and s for our odd number n\n",
        "def decomposition(n):\n",
        "  a = n-1 \n",
        "  s = 0 \n",
        "  if a%2==1:\n",
        "    return(n,0)\n",
        "  else:\n",
        "    while a%2==0:   \n",
        "      q = a/2\n",
        "      s = s + 1\n",
        "      a = a/2\n",
        "\n",
        "    return(q,s)\n",
        "\n",
        "\n",
        "\n",
        "def Miller_Rabin(n):\n",
        "  (q,s) = decomposition(n)\n",
        "  print(\"We have determined q to be\",q,\"and s to be\",s)\n",
        "  a = random.randint(1 , (n-1))\n",
        "  print(\"we take a = \",a)\n",
        "  print(\"we want to calqulate a**q mod\",n)\n",
        "  b = square_multiply(a,q,n)\n",
        "  if b==1:\n",
        "    print(\"b is 1, try another a\")\n",
        "    Miller_Rabin(n)\n",
        "  else:\n",
        "    print(\"b = \", b)\n",
        "    print(\"Therefore we compute the sequence of b**n's\")\n",
        "    for i in range(1 , (2**s)):\n",
        "      bn = (b**i) % n\n",
        "      if bn == n-1:\n",
        "        print(b,\"to the power of\",i,\"= -1 mod \",n,\", therefore\")\n",
        "        print(\"Probably prime\")\n",
        "        break\n",
        "    if bn != n-1:\n",
        "      print(\"we do not get -1 mod \",n,\" in the sequence\")\n",
        "      print(\"composite\")\n",
        "        \n",
        "\n",
        "Miller_Rabin(827)"
      ],
      "metadata": {
        "colab": {
          "base_uri": "https://localhost:8080/"
        },
        "id": "CrQtLw44CIa2",
        "outputId": "0debc17b-dd9a-4148-ead3-1e4f6a972399"
      },
      "execution_count": null,
      "outputs": [
        {
          "output_type": "stream",
          "name": "stdout",
          "text": [
            "We have determined q to be 413.0 and s to be 1\n",
            "we take a =  123\n",
            "we want to calqulate a**q mod 827\n",
            "The binary expansion of  413.0  is [1 1 0 0 1 1 1 0 1]\n",
            "we start with  123\n",
            "The next digit in the binary expansion of  413.0  is a 1 so we square  123  and then multiply it by 123 to get 117\n",
            "The next digit in the binary expansion of  413.0  is a 0 so we square  117 to get 457\n",
            "The next digit in the binary expansion of  413.0  is a 0 so we square  457 to get 445\n",
            "The next digit in the binary expansion of  413.0  is a 1 so we square  445  and then multiply it by 123 to get 271\n",
            "The next digit in the binary expansion of  413.0  is a 1 so we square  271  and then multiply it by 123 to get 749\n",
            "The next digit in the binary expansion of  413.0  is a 1 so we square  749  and then multiply it by 123 to get 724\n",
            "The next digit in the binary expansion of  413.0  is a 0 so we square  724 to get 685\n",
            "The next digit in the binary expansion of  413.0  is a 1 so we square  685  and then multiply it by 123 to get 826\n",
            "b =  826\n",
            "Therefore we compute the sequence of b**n's\n",
            "826 to the power of 1 = -1 mod  827 , therefore\n",
            "Probably prime\n"
          ]
        }
      ]
    },
    {
      "cell_type": "markdown",
      "source": [
        "Fermat primality test"
      ],
      "metadata": {
        "id": "9h7YQCN1SW8E"
      }
    },
    {
      "cell_type": "code",
      "source": [
        "def primality(n):\n",
        "  a = random.randint(1 , (n-1))\n",
        "  print(a)\n",
        "  x = square_multiply(a,n-1,n)\n",
        "  print(x)\n",
        "  if x == 1:\n",
        "    print(\"probably prime\")\n",
        "  else:\n",
        "    print(\"composite\")\n",
        "\n",
        "primality(967)"
      ],
      "metadata": {
        "colab": {
          "base_uri": "https://localhost:8080/"
        },
        "id": "fvO3Y0wzSXCz",
        "outputId": "9cba2c44-5ffe-4c3e-e4dc-45f9963f91b9"
      },
      "execution_count": null,
      "outputs": [
        {
          "output_type": "stream",
          "name": "stdout",
          "text": [
            "834\n",
            "The binary expansion of  966  is [1 1 1 1 0 0 0 1 1 0]\n",
            "we start with  834\n",
            "The next digit in the binary expansion of  966  is a 1 so we square  834  and then multiply it by 834 to get 74\n",
            "The next digit in the binary expansion of  966  is a 1 so we square  74  and then multiply it by 834 to get 810\n",
            "The next digit in the binary expansion of  966  is a 1 so we square  810  and then multiply it by 834 to get 780\n",
            "The next digit in the binary expansion of  966  is a 0 so we square  780 to get 157\n",
            "The next digit in the binary expansion of  966  is a 0 so we square  157 to get 474\n",
            "The next digit in the binary expansion of  966  is a 0 so we square  474 to get 332\n",
            "The next digit in the binary expansion of  966  is a 1 so we square  332  and then multiply it by 834 to get 895\n",
            "The next digit in the binary expansion of  966  is a 1 so we square  895  and then multiply it by 834 to get 966\n",
            "The next digit in the binary expansion of  966  is a 0 so we square  966 to get 1\n",
            "1\n",
            "probably prime\n"
          ]
        }
      ]
    },
    {
      "cell_type": "code",
      "source": [
        "def egcd(a, b):\n",
        "    if a == 0:\n",
        "        return (b, 0, 1)\n",
        "    else:\n",
        "        g, y, x = egcd(b % a, a)\n",
        "        return (g, x - (b // a) * y, y)\n",
        "#Through a recursive algorithm I find gcd(a,b) = g as well as x and y\n",
        "#such that a*x + b*y = g = gcd(a, b)\n",
        "\n",
        "def modinv(a, m):\n",
        "    g, x, y = egcd(a, m)\n",
        "    if g != 1:\n",
        "        raise Exception('modular inverse does not exist')\n",
        "    else:\n",
        "        #Here I have x*a + y*m = 1 therefore x mod m is the inverse of a\n",
        "        return x % m\n",
        "\n",
        "modinv(34,211)\n"
      ],
      "metadata": {
        "colab": {
          "base_uri": "https://localhost:8080/"
        },
        "id": "MdrPjtrMZY8Q",
        "outputId": "5dfad30e-ad25-43b8-aba8-41c9248e50a0"
      },
      "execution_count": null,
      "outputs": [
        {
          "output_type": "execute_result",
          "data": {
            "text/plain": [
              "180"
            ]
          },
          "metadata": {},
          "execution_count": 146
        }
      ]
    }
  ]
}