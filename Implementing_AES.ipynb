{
  "cells": [
    {
      "cell_type": "code",
      "execution_count": null,
      "metadata": {
        "id": "PXRufAh7iuM6"
      },
      "outputs": [],
      "source": [
        "import sympy as sp\n",
        "from sympy import S, collect, expand, factor, Wild\n",
        "from sympy.abc import x, y\n",
        "y = sp.Symbol('y')\n",
        "x = sp.Symbol('x')"
      ]
    },
    {
      "cell_type": "markdown",
      "source": [
        "Polynomial representation to binary representation "
      ],
      "metadata": {
        "id": "M39K_FdHoX_R"
      }
    },
    {
      "cell_type": "code",
      "source": [
        "def binary_conv(state):\n",
        "  binary=[0 for i in range(16)]\n",
        "  binary1 = [0 for i in range(128)]\n",
        "  for i in range(4):\n",
        "    for j in range(4):\n",
        "      a = state[i][j].all_coeffs()\n",
        "      binary[4*i+j] = a\n",
        "      if len(a) != 8:\n",
        "        for k in range(8-len(a)):\n",
        "          a.insert(k,0)\n",
        "      binary[4*i+j] = a\n",
        "  for i in range(16):\n",
        "    for j in range(8):\n",
        "      binary1[8*i+j] = binary[i][j]\n",
        "  return binary1\n",
        "\n"
      ],
      "metadata": {
        "id": "7pycVRuFRkST"
      },
      "execution_count": null,
      "outputs": []
    },
    {
      "cell_type": "markdown",
      "metadata": {
        "id": "HHRZD0YS35gh"
      },
      "source": [
        "gcd function (Used for inverses)\n",
        "\n",
        "\n"
      ]
    },
    {
      "cell_type": "code",
      "source": [
        "#This function finds the gcd of 2 polynomials \n",
        "def gcd(a,b):\n",
        "  (throwaway,a) = sp.polys.polytools.reduced(a,[b], modulus=2)\n",
        "\n",
        "  if a == 0:\n",
        "    return (b, 0, 1)\n",
        "  else:\n",
        "    (throwaway,bmoda) = sp.polys.polytools.reduced(b,[a], modulus=2)\n",
        "    g, y, x = gcd(bmoda,a) \n",
        "    (g,x,y) = (g, x - (b // a) * y, y)\n",
        "    x = sp.Poly.from_poly(x,modulus=2)\n",
        "    return (g,x,y)\n",
        "#Through a recursive algorithm it returns gcd(a,b) = g as well as x and y\n",
        "#such that a*x + b*y = g\n",
        "\n"
      ],
      "metadata": {
        "id": "4IX4zfuWM3PV"
      },
      "execution_count": null,
      "outputs": []
    },
    {
      "cell_type": "markdown",
      "metadata": {
        "id": "53OHk8JF4rDu"
      },
      "source": [
        "Inverse function\n"
      ]
    },
    {
      "cell_type": "code",
      "execution_count": null,
      "metadata": {
        "id": "onlhztcn4oMH",
        "colab": {
          "base_uri": "https://localhost:8080/",
          "height": 38
        },
        "outputId": "4eb22923-3e0e-4c84-b37d-54b441cf5d80"
      },
      "outputs": [
        {
          "output_type": "execute_result",
          "data": {
            "text/plain": [
              "Poly(x**6 + x**3 + x, x, modulus=2)"
            ],
            "text/latex": "$\\displaystyle \\operatorname{Poly}{\\left( x^{6} + x^{3} + x, x, domain=\\mathbb{F}_{2} \\right)}$"
          },
          "metadata": {},
          "execution_count": 4
        }
      ],
      "source": [
        "#As we have the gcd and the linear combination of a and b s.t. it equals the gcd\n",
        "#The inverse function simply checks if there exists an inverse and if it does returns\n",
        "#x such that a*x + b*y = 1 (which is the onverse of a mod b)\n",
        "def inv(a,b):\n",
        "    g, x, y = gcd(a,b)\n",
        "    if g != 1:\n",
        "        raise Exception('modular inverse does not exist')\n",
        "    else:\n",
        "        #Here I have a*x + b*y = 1 therefore x mod m is the inverse of a\n",
        "        return x\n",
        "g = sp.Poly(x**4+x**3+x**2+x+1, modulus=2)\n",
        "h = sp.Poly(x**8+1, modulus=2)\n",
        "inv(g,h)"
      ]
    },
    {
      "cell_type": "markdown",
      "source": [
        "τ"
      ],
      "metadata": {
        "id": "xMM2msZRo9yV"
      }
    },
    {
      "cell_type": "code",
      "execution_count": null,
      "metadata": {
        "id": "Hwt8-TgwE4BB"
      },
      "outputs": [],
      "source": [
        "def tau(byte,poly):\n",
        "  trans = byte+poly\n",
        "  return trans"
      ]
    },
    {
      "cell_type": "markdown",
      "metadata": {
        "id": "gUlaGMIQBn7e"
      },
      "source": [
        "σ"
      ]
    },
    {
      "cell_type": "code",
      "execution_count": null,
      "metadata": {
        "id": "b5nILYIN97pr",
        "colab": {
          "base_uri": "https://localhost:8080/",
          "height": 38
        },
        "outputId": "981361dd-bd8b-4db1-8764-c48a732a19e2"
      },
      "outputs": [
        {
          "output_type": "execute_result",
          "data": {
            "text/plain": [
              "Poly(x**7 + x**6 + x**4 + x**2, x, modulus=2)"
            ],
            "text/latex": "$\\displaystyle \\operatorname{Poly}{\\left( x^{7} + x^{6} + x^{4} + x^{2}, x, domain=\\mathbb{F}_{2} \\right)}$"
          },
          "metadata": {},
          "execution_count": 6
        }
      ],
      "source": [
        "def sigma(byte):\n",
        "  m = sp.Poly(x**8+x**4+x**3+x+1) # define m \n",
        "  if byte == 0:\n",
        "    g = sp.Poly(x**6+x**5+x+1, modulus=2) # s-box when input is 0\n",
        "  else:\n",
        "    g = tau(inv(byte,m)*sp.Poly(x**4+x**3+x**2+x+1, modulus=2),sp.Poly(x**6+x**5+x+1, modulus=2)) \n",
        "    # s-box for all other functions according to the formula\n",
        "    (a,g) = sp.polys.polytools.reduced(g,[x**8+1],modulus=2) # reduce mod x^8+1\n",
        "  return(g) #returns encrypted byte\n",
        "\n",
        "sigma(sp.Poly(x**4+x**3+1, modulus=2))"
      ]
    },
    {
      "cell_type": "code",
      "execution_count": null,
      "metadata": {
        "id": "K42ysGPP7aGP"
      },
      "outputs": [],
      "source": [
        "def sigma_inv(byte):\n",
        "  m = sp.Poly(x**8+x**4+x**3+x+1,modulus=2)\n",
        "  if byte == sp.Poly(x**6+x**5+x+1, modulus=2):\n",
        "    byte_dec = 0\n",
        "  else: \n",
        "    byte_dec = tau(byte*sp.Poly(x**6+x**3+x,x,modulus=2),sp.Poly(x**2+1,modulus=2)) # inverse translation\n",
        "    (a,byte_dec) = sp.polys.polytools.reduced(byte_dec,[x**8+1],modulus=2)\n",
        "    byte_dec = inv(byte_dec,m) # multiplication by inverse of x^4+x^3+x^2+x+1\n",
        "  return byte_dec"
      ]
    },
    {
      "cell_type": "code",
      "source": [
        "sigma_inv(sigma(sp.Poly(x**4+x**3+1, modulus=2))) #Testing sigma inverse works"
      ],
      "metadata": {
        "colab": {
          "base_uri": "https://localhost:8080/",
          "height": 38
        },
        "id": "rnUR8Wa2kDu-",
        "outputId": "5c24d71f-c116-47f1-9444-7845d0428f94"
      },
      "execution_count": null,
      "outputs": [
        {
          "output_type": "execute_result",
          "data": {
            "text/plain": [
              "Poly(x**4 + x**3 + 1, x, modulus=2)"
            ],
            "text/latex": "$\\displaystyle \\operatorname{Poly}{\\left( x^{4} + x^{3} + 1, x, domain=\\mathbb{F}_{2} \\right)}$"
          },
          "metadata": {},
          "execution_count": 8
        }
      ]
    },
    {
      "cell_type": "markdown",
      "metadata": {
        "id": "_RkB4TrWBkIf"
      },
      "source": [
        "ξ"
      ]
    },
    {
      "cell_type": "code",
      "execution_count": null,
      "metadata": {
        "id": "xtc8hG6G9w6C",
        "colab": {
          "base_uri": "https://localhost:8080/"
        },
        "outputId": "b3cf0a03-706e-4487-8cd2-a4d3f721afd9"
      },
      "outputs": [
        {
          "output_type": "execute_result",
          "data": {
            "text/plain": [
              "[Poly(x**5 + x**4 + x**2 + x, x, modulus=2),\n",
              " Poly(x**6 + x**4 + x, x, modulus=2),\n",
              " Poly(x**3 + x**2, x, modulus=2),\n",
              " Poly(x**7 + x**6 + x**3 + 1, x, modulus=2)]"
            ]
          },
          "metadata": {},
          "execution_count": 9
        }
      ],
      "source": [
        "def xi(word):\n",
        "  g = [0,0,0,0] #initialize output array\n",
        "  for i in range(4):\n",
        "    g[i] = sigma(word[(i+1) % 4]) #we permute each byte in the word and map it through sigma\n",
        "\n",
        "  return(g)\n",
        "\n",
        "word = [sp.Poly(x**4+x, modulus=2),sp.Poly(x**5+x**2, modulus=2),sp.Poly(x**6+x**3, modulus=2),sp.Poly(x**7+1, modulus=2)] #test word\n",
        "xi(word) "
      ]
    },
    {
      "cell_type": "markdown",
      "metadata": {
        "id": "-9YXlD3lBpeb"
      },
      "source": [
        "\n",
        "\n",
        "μ,ν"
      ]
    },
    {
      "cell_type": "code",
      "execution_count": null,
      "metadata": {
        "colab": {
          "base_uri": "https://localhost:8080/"
        },
        "id": "IJ68kWEKBro-",
        "outputId": "06fe82e4-92f5-4292-af00-7489e2a00dd9"
      },
      "outputs": [
        {
          "output_type": "stream",
          "name": "stdout",
          "text": [
            "[Poly(x**7 + 1, x, modulus=2), Poly(x + 1, x, modulus=2), Poly(x**5 + x**4 + x**3 + x**2 + x, x, modulus=2), Poly(x**6 + x + 1, x, modulus=2)]\n",
            "[Poly(x**4 + x, x, modulus=2), Poly(x**5 + x**2, x, modulus=2), Poly(x**6 + x**3, x, modulus=2), Poly(x**7 + 1, x, modulus=2)]\n"
          ]
        }
      ],
      "source": [
        "def mu(word):\n",
        "  c=[sp.Poly(x,x,modulus=2),sp.Poly(1,x,modulus=2),sp.Poly(1,x,modulus=2),sp.Poly(x+1,x,modulus=2)] #here we define the polynomial c from the lecture notes in F2[x]\n",
        "  g=0\n",
        "  \n",
        "  for i in range(4): #we get our word represented as a single polynoial (g) in (F2[x]/(m) [y]/(y^4 + 1))\n",
        "    w=word[i]*(sp.Poly(y**i,y,modulus=2))\n",
        "    g=g+w\n",
        "    g=sp.Poly.from_poly(g,modulus=2)\n",
        "  \n",
        "  q=0 \n",
        "  #for mu\n",
        "  for i in range(4): #we get c represented as a single polynoial in (F2[x]/(m) [y]/(y^4 + 1)) which is used to get μ(word)\n",
        "    w=c[i]*(sp.Poly(y**i,y,modulus=2))\n",
        "    q=q+w\n",
        "    q=sp.Poly.from_poly(q,modulus=2) #here q is the (F2[x]/(m) [y]/(y^4 + 1)) representation of c\n",
        "\n",
        "  word_enc_mu=q*(g) #μ(word) is defined as g*c\n",
        "  word_enc_mu=sp.polys.polytools.reduced(word_enc_mu,[y**4+1],modulus=2) \n",
        "  word_enc_mu=sp.polys.polytools.reduced(word_enc_mu[1],[x**8+x**4+x**3+x+1],modulus=2) #we get μ(word) mod (y^4+1)(m)\n",
        "\n",
        "  word_enc_mu1=word_enc_mu[1]\n",
        "\n",
        "  #Up to this point μ(word) is still represented in (F2[x]/(m) [y]/(y^4 + 1))\n",
        "  #We want to put it back in an array format of 4 bytes each in F2[x]/(m)\n",
        "\n",
        "  word_enc_mu1=sp.collect(word_enc_mu1.as_expr(),y) #First we collect all the like terms for each power of y\n",
        "\n",
        "\n",
        "  word_enc_mu1=sp.Poly(word_enc_mu1,y).all_coeffs() #Next we take the coefficients of each y^i and put it in an array format\n",
        "\n",
        "\n",
        "\n",
        "  if len(word_enc_mu1) != 4:\n",
        "    for i in range(4-len(word_enc_mu1)):\n",
        "      word_enc_mu1.insert(0,0)\n",
        "\n",
        "\n",
        "  for i in range(4): #The polynomials are in expr format while for our purposes we wanr Poly format so we reformat it \n",
        "    word_enc_mu1[i] = sp.Poly(word_enc_mu1[i],x,modulus=2)\n",
        "\n",
        "\n",
        "  word_enc_mu1.reverse()\n",
        "\n",
        "\n",
        "  return(word_enc_mu1) #we return μ(word)\n",
        "  \n",
        "#test using the word defined above\n",
        "print(mu(word))\n",
        "a = mu(mu(mu(mu(word))))\n",
        "print(a)"
      ]
    },
    {
      "cell_type": "code",
      "execution_count": null,
      "metadata": {
        "id": "GLXaUyZw2chd"
      },
      "outputs": [],
      "source": [
        "def nu(word):\n",
        "  return(mu(mu(mu(word)))) #as nu = mu^3"
      ]
    },
    {
      "cell_type": "markdown",
      "metadata": {
        "id": "dDLkoAQLSaZW"
      },
      "source": [
        "ρ"
      ]
    },
    {
      "cell_type": "code",
      "execution_count": null,
      "metadata": {
        "id": "J6G2chAnSZYQ"
      },
      "outputs": [],
      "source": [
        "def rho(state):\n",
        "  state_enc = [[state[(j-i)][j] for j in range(4)] for i in range(4)] \n",
        "  #switch around the bytes in words\n",
        "  state_enc[1], state_enc[3] = state_enc[3], state_enc[1] \n",
        "  #swap two encrypted words with each other due to switching around\n",
        "  return(state_enc)"
      ]
    },
    {
      "cell_type": "markdown",
      "metadata": {
        "id": "1UFo6n7y6dh8"
      },
      "source": [
        "Key state generator (sequence of 43 wn's)"
      ]
    },
    {
      "cell_type": "code",
      "execution_count": null,
      "metadata": {
        "id": "29GeaYH26ccI",
        "colab": {
          "base_uri": "https://localhost:8080/"
        },
        "outputId": "1b0ae688-9377-4248-f82d-2c3f22d521e3"
      },
      "outputs": [
        {
          "output_type": "stream",
          "name": "stdout",
          "text": [
            "[[Poly(x**2 + x + 1, x, modulus=2), Poly(x**2 + x + 1, x, modulus=2), Poly(x**2 + x + 1, x, modulus=2), Poly(x**2 + x + 1, x, modulus=2)], [Poly(x**4 + x**3 + 1, x, modulus=2), Poly(x**4 + x**3 + 1, x, modulus=2), Poly(x**4 + x**3 + 1, x, modulus=2), Poly(x**4 + x**3 + 1, x, modulus=2)], [Poly(x**5 + x**4 + x**2 + 1, x, modulus=2), Poly(x**5 + x**4 + x**2 + 1, x, modulus=2), Poly(x**5 + x**4 + x**2 + 1, x, modulus=2), Poly(x**5 + x**4 + x**2 + 1, x, modulus=2)], [Poly(x**7 + 1, x, modulus=2), Poly(x**7 + 1, x, modulus=2), Poly(x**7 + 1, x, modulus=2), Poly(x**7 + 1, x, modulus=2)], [Poly(x**3 + x, x, modulus=2), Poly(x**3 + x + 1, x, modulus=2), Poly(x**3 + x + 1, x, modulus=2), Poly(x**3 + x + 1, x, modulus=2)], [Poly(x**4 + x + 1, x, modulus=2), Poly(x**4 + x, x, modulus=2), Poly(x**4 + x, x, modulus=2), Poly(x**4 + x, x, modulus=2)], [Poly(x**5 + x**2 + x, x, modulus=2), Poly(x**5 + x**2 + x + 1, x, modulus=2), Poly(x**5 + x**2 + x + 1, x, modulus=2), Poly(x**5 + x**2 + x + 1, x, modulus=2)], [Poly(x**7 + x**5 + x**2 + x + 1, x, modulus=2), Poly(x**7 + x**5 + x**2 + x, x, modulus=2), Poly(x**7 + x**5 + x**2 + x, x, modulus=2), Poly(x**7 + x**5 + x**2 + x, x, modulus=2)], [Poly(x**5 + x**3 + x**2, x, modulus=2), Poly(x**5 + x**3 + x**2 + x + 1, x, modulus=2), Poly(x**5 + x**3 + x**2 + x + 1, x, modulus=2), Poly(x**6 + x**4 + x**2 + x + 1, x, modulus=2)], [Poly(x**5 + x**4 + x**3 + x**2 + x + 1, x, modulus=2), Poly(x**5 + x**4 + x**3 + x**2 + 1, x, modulus=2), Poly(x**5 + x**4 + x**3 + x**2 + 1, x, modulus=2), Poly(x**6 + x**2 + 1, x, modulus=2)], [Poly(x**4 + x**3 + 1, x, modulus=2), Poly(x**4 + x**3 + x, x, modulus=2), Poly(x**4 + x**3 + x, x, modulus=2), Poly(x**6 + x**5 + x, x, modulus=2)], [Poly(x**7 + x**5 + x**4 + x**3 + x**2 + x, x, modulus=2), Poly(x**7 + x**5 + x**4 + x**3 + x**2, x, modulus=2), Poly(x**7 + x**5 + x**4 + x**3 + x**2, x, modulus=2), Poly(x**7 + x**6 + x**2, x, modulus=2)], [Poly(x**6 + x**3 + x**2 + 1, x, modulus=2), Poly(x**6 + x**3 + x, x, modulus=2), Poly(x**5 + x**4 + x + 1, x, modulus=2), Poly(x**7 + x**6 + x**5 + x**4 + x**3 + 1, x, modulus=2)], [Poly(x**6 + x**5 + x**4 + x, x, modulus=2), Poly(x**6 + x**5 + x**4 + x**2 + x + 1, x, modulus=2), Poly(x**3 + x**2 + x, x, modulus=2), Poly(x**7 + x**5 + x**4 + x**3 + x**2, x, modulus=2)], [Poly(x**6 + x**5 + x**3 + x + 1, x, modulus=2), Poly(x**6 + x**5 + x**3 + x**2 + 1, x, modulus=2), Poly(x**4 + x**2, x, modulus=2), Poly(x**7 + x**6 + x**4 + x**3 + x**2 + x, x, modulus=2)], [Poly(x**7 + x**6 + x**4 + x**2 + 1, x, modulus=2), Poly(x**7 + x**6 + x**4 + 1, x, modulus=2), Poly(x**7 + x**5 + x**3, x, modulus=2), Poly(x**4 + x**3 + x, x, modulus=2)], [Poly(x**6 + x**5 + x**4 + x**3 + x + 1, x, modulus=2), Poly(x**7 + x**3, x, modulus=2), Poly(x**7 + x**4 + 1, x, modulus=2), Poly(x**7 + x**6 + x**5 + x**4 + x**3 + x, x, modulus=2)], [Poly(x**3 + 1, x, modulus=2), Poly(x**7 + x**6 + x**5 + x**4 + x**3 + x**2 + x + 1, x, modulus=2), Poly(x**7 + x**4 + x**3 + x**2 + x + 1, x, modulus=2), Poly(x**6 + x**2 + x, x, modulus=2)], [Poly(x**6 + x**5 + x, x, modulus=2), Poly(x**7 + x**4 + x, x, modulus=2), Poly(x**7 + x**3 + x + 1, x, modulus=2), Poly(x**7 + x**4 + x**3, x, modulus=2)], [Poly(x**7 + x**5 + x**4 + x**2 + x + 1, x, modulus=2), Poly(x**6 + x + 1, x, modulus=2), Poly(x**5 + x + 1, x, modulus=2), Poly(x**7 + x, x, modulus=2)], [Poly(x**6 + x**5 + x**4 + 1, x, modulus=2), Poly(x**7 + x**5 + x**3 + x**2 + x, x, modulus=2), Poly(x**7 + x, x, modulus=2), Poly(x**6 + x**4 + x + 1, x, modulus=2)], [Poly(x**6 + x**5 + x**4 + x**3, x, modulus=2), Poly(x**6 + x**4 + 1, x, modulus=2), Poly(x**4 + x**3 + x**2 + 1, x, modulus=2), Poly(x**4 + x**2 + 1, x, modulus=2)], [Poly(x**4 + x**3 + x, x, modulus=2), Poly(x**7 + x**6 + x + 1, x, modulus=2), Poly(x**7 + x**4 + x**2 + x, x, modulus=2), Poly(x**7 + x**3 + x**2 + 1, x, modulus=2)], [Poly(x**7 + x**5 + x**3 + x**2 + 1, x, modulus=2), Poly(x**7, x, modulus=2), Poly(x**7 + x**5 + x**4 + x**2 + 1, x, modulus=2), Poly(x**3 + x**2 + x + 1, x, modulus=2)], [Poly(x**7 + x**4 + x**3 + x**2, x, modulus=2), Poly(x**6 + x**5 + x**4 + x**3 + x + 1, x, modulus=2), Poly(x**7 + x**6 + x**5 + x**4 + x**2, x, modulus=2), Poly(x**7 + x**6 + x**2 + x, x, modulus=2)], [Poly(x**7 + x**6 + x**5 + x**2, x, modulus=2), Poly(x**5 + x**3 + x, x, modulus=2), Poly(x**7 + x**6 + x**5 + x**3 + 1, x, modulus=2), Poly(x**7 + x**6 + x**4 + x + 1, x, modulus=2)], [Poly(x**7 + x**6 + x**5 + x**4 + x**3 + x**2 + x, x, modulus=2), Poly(x**7 + x**6 + x**5 + x**3 + 1, x, modulus=2), Poly(x**6 + x**5 + x**4 + x**3 + x**2 + x + 1, x, modulus=2), Poly(x**6 + x**4 + x**3 + x**2 + x, x, modulus=2)], [Poly(x**6 + x**4 + x + 1, x, modulus=2), Poly(x**6 + x**5 + x**3 + 1, x, modulus=2), Poly(x**7 + x**6 + x**3 + x, x, modulus=2), Poly(x**6 + x**4 + 1, x, modulus=2)], [Poly(x**5 + x**2 + 1, x, modulus=2), Poly(x**3 + x**2 + x + 1, x, modulus=2), Poly(x**5 + x**2 + 1, x, modulus=2), Poly(x**5 + x**3 + x + 1, x, modulus=2)], [Poly(x**7 + x**6 + 1, x, modulus=2), Poly(x**5 + x**2 + 1, x, modulus=2), Poly(x**7 + x**6 + x**3 + x**2, x, modulus=2), Poly(x**7 + x**6 + x**5 + x**4 + x**3, x, modulus=2)], [Poly(x**5 + x**4 + x**3 + x**2 + x + 1, x, modulus=2), Poly(x**7 + x**6 + x**3 + x**2, x, modulus=2), Poly(x**7 + x**5 + x**4 + x + 1, x, modulus=2), Poly(x**7 + x**5 + x**2 + x, x, modulus=2)], [Poly(x**6 + x**5 + x**3 + x**2, x, modulus=2), Poly(x**7 + x**5 + x**2 + 1, x, modulus=2), Poly(x**6 + x**5 + x**4 + x**3 + 1, x, modulus=2), Poly(x**7 + x**6 + x**5 + x**4 + x**2 + x + 1, x, modulus=2)], [Poly(x**7 + x**5 + x + 1, x, modulus=2), Poly(x**7 + x**5 + x**4 + x**3 + 1, x, modulus=2), Poly(x**6 + x**3 + x**2 + 1, x, modulus=2), Poly(x**6 + x**5 + x**4 + x**3 + x + 1, x, modulus=2)], [Poly(x**6 + x**5 + x, x, modulus=2), Poly(x**7 + x**4 + x**3 + x**2, x, modulus=2), Poly(x**7 + 1, x, modulus=2), Poly(x**7 + x + 1, x, modulus=2)], [Poly(x**6 + x**4 + x**3 + x**2 + 1, x, modulus=2), Poly(x**6 + x**4, x, modulus=2), Poly(x**5 + x**4 + x, x, modulus=2), Poly(x**5 + x**2 + 1, x, modulus=2)], [Poly(x**5 + x**4 + 1, x, modulus=2), Poly(x**7 + x**6 + x**5 + x**4 + x**2 + 1, x, modulus=2), Poly(x**6 + x**3 + x + 1, x, modulus=2), Poly(x**7 + x**6 + x**4 + x, x, modulus=2)], [Poly(x**6 + x**4 + x**3 + x**2 + x, x, modulus=2), Poly(x**3 + x, x, modulus=2), Poly(x**7 + x**6 + x**5 + x**4 + x**3, x, modulus=2), Poly(x**7 + x**5 + x**4 + x**3 + x**2, x, modulus=2)], [Poly(x**5 + x**4 + x**3 + x**2, x, modulus=2), Poly(x**7 + x**4 + x**2 + x, x, modulus=2), Poly(x**6 + x**5 + x**4 + x**3 + 1, x, modulus=2), Poly(x**5 + x**4 + x**3 + x**2 + x + 1, x, modulus=2)], [Poly(x**6 + x**5 + 1, x, modulus=2), Poly(x**7 + x**6 + x**2 + x, x, modulus=2), Poly(x**6 + x**3 + x + 1, x, modulus=2), Poly(x**4 + x**3 + x, x, modulus=2)], [Poly(x**6 + x**4, x, modulus=2), Poly(x**5 + x**4 + x + 1, x, modulus=2), Poly(0, x, modulus=2), Poly(x**7 + x**6 + x**3, x, modulus=2)], [Poly(x**7 + x**5 + x**3 + x + 1, x, modulus=2), Poly(x**6 + x**5 + x**3 + 1, x, modulus=2), Poly(x**4, x, modulus=2), Poly(x**7 + x**6 + x**5 + x**3 + x**2 + x + 1, x, modulus=2)], [Poly(x**7 + x**4 + x**2 + x + 1, x, modulus=2), Poly(x**7 + x**6 + x**5 + x**4 + x**3 + x**2 + x + 1, x, modulus=2), Poly(x**6 + x**5 + x**3 + 1, x, modulus=2), Poly(x**7 + x**6 + x**4, x, modulus=2)], [Poly(x**7 + x**6 + x**5 + x**4 + x**2 + x, x, modulus=2), Poly(x**5 + x**4 + x**3 + 1, x, modulus=2), Poly(x**5 + x, x, modulus=2), Poly(x**7 + x**6 + x**3 + x, x, modulus=2)], [Poly(x**7 + x**5 + x**2 + x, x, modulus=2), Poly(x**3 + x, x, modulus=2), Poly(x**5 + x, x, modulus=2), Poly(x, x, modulus=2)]]\n"
          ]
        }
      ],
      "source": [
        "def state_gen(key):\n",
        "  wn = [0 for i in range(44)] #initiate sequence wn as a list\n",
        "  wn[0] = key[0] #substitute first 4 entries by the key entries\n",
        "  wn[1] = key[1]\n",
        "  wn[2] = key[2]\n",
        "  wn[3] = key[3]\n",
        "\n",
        "  for i in range(40): #use the formula to get the rest of the terms (between 4 and 43)\n",
        "    p=[0,0,0,0] #initialise a word p\n",
        "    if i%4 == 0: #procedure to get wn[i] for i divisible by 4\n",
        "      X = [sp.Poly(x**int((i/4)),x,modulus=2),0,0,0]\n",
        "      k = xi(wn[i+3])\n",
        "      w = wn[i]\n",
        "      for j in range(4): #this loop does vector addition\n",
        "        p[j] = X[j] + k[j] + w[j] \n",
        "        pj = sp.polys.polytools.reduced(p[j],[x**8+x**4+x**3+x+1],modulus=2) # each byte in word p taken mod m\n",
        "        p[j] = pj[1] #2nd entry of pj is the remainder mod m\n",
        "      wn[i+4] = p #plug into the sequence wn\n",
        "    else:\n",
        "      w1 = wn[i+3]\n",
        "      w2 = wn[i]\n",
        "      for j in range(4): #this loop does vector addition\n",
        "        p[j] = w1[j] + w2[j] # procedureto get wn[i] for i not divisible by 4\n",
        "        pj = sp.polys.polytools.reduced(p[j],[x**8+x**4+x**3+x+1],modulus=2) # each byte in word p taken mod m\n",
        "        p[j] = pj[1] #2nd entry of pj is the remainder mod m\n",
        "      wn[i+4] = p #plug into the sequence\n",
        "\n",
        "  return wn\n",
        "\n",
        "\n",
        "#example words for the key\n",
        "a = [sp.Poly(x**2+x+1,modulus=2), sp.Poly(x**2+x+1,modulus=2), sp.Poly(x**2+x+1,modulus=2),sp.Poly(x**2+x+1,modulus=2)]\n",
        "b = [sp.Poly(x**4+x**3+1, modulus=2), sp.Poly(x**4+x**3+1, modulus=2), sp.Poly(x**4+x**3+1, modulus=2), sp.Poly(x**4+x**3+1, modulus=2)]\n",
        "c = [sp.Poly(x**5+x**4+x**2+1, modulus=2), sp.Poly(x**5+x**4+x**2+1, modulus=2),sp.Poly(x**5+x**4+x**2+1, modulus=2),sp.Poly(x**5+x**4+x**2+1, modulus=2)]\n",
        "d = [sp.Poly(x**7+1, modulus=2),sp.Poly(x**7+1, modulus=2),sp.Poly(x**7+1, modulus=2),sp.Poly(x**7+1, modulus=2)]\n",
        "key1 = [a,b,c,d] #creating key from words\n",
        "key2 = [d,c,b,a]\n",
        "b = state_gen(key1) #test run\n",
        "print(b)"
      ]
    },
    {
      "cell_type": "markdown",
      "metadata": {
        "id": "NXu_6SYjBvWe"
      },
      "source": [
        "AES step for encryption"
      ]
    },
    {
      "cell_type": "code",
      "source": [
        "def AES_step(state,key_n):\n",
        "  state_enc_n = [[tau(state[i][j],key_n[i][j]) for j in range(4)] for i in range(4)] \n",
        "  # translation by key_n\n",
        "\n",
        "  for i in range(4):\n",
        "    for j in range(4):\n",
        "      state_enc_n[i][j] = sigma(state_enc_n[i][j]) # image under sigma\n",
        "\n",
        "  state_enc_n = rho(state_enc_n) # image under rho\n",
        "\n",
        "  for i in range(4):\n",
        "    state_enc_n[i] = mu(state_enc_n[i]) # image under mu\n",
        "\n",
        "  return(state_enc_n)"
      ],
      "metadata": {
        "id": "4zFnK32RfwwL"
      },
      "execution_count": null,
      "outputs": []
    },
    {
      "cell_type": "markdown",
      "metadata": {
        "id": "6WPni07U0EBp"
      },
      "source": [
        "Encryption\n"
      ]
    },
    {
      "cell_type": "code",
      "source": [
        "def AES_encrypt(state,key): #the encryption function\n",
        "  key_aes = state_gen(key) # generate full sequence (wj) from the key\n",
        "  state_enc_aes = state\n",
        "  key_aes_n = [[key_aes[4*i],key_aes[4*i+1],key_aes[4*i+2],key_aes[4*i+3]] for i in range(11)]\n",
        "\n",
        "  for i in range(9):\n",
        "    state_enc_aes = AES_step(state_enc_aes,key_aes_n[i])\n",
        "  \n",
        "  \n",
        "  state_enc_aes = [[tau(state_enc_aes[i][j],key_aes_n[9][i][j]) for j in range(4)] for i in range(4)] \n",
        "  # translation by key_n\n",
        "  \n",
        "  for i in range(4):\n",
        "    for j in range(4):\n",
        "      state_enc_aes[i][j] = sigma(state_enc_aes[i][j]) # image under sigma\n",
        "\n",
        "  state_enc_aes = rho(state_enc_aes) # image under rho\n",
        "\n",
        "  state_enc_aes = [[tau(state_enc_aes[i][j],key_aes_n[10][i][j]) for j in range(4)] for i in range(4)] \n",
        "  # translation by key_n\n",
        "\n",
        "  return(state_enc_aes)\n",
        "\n",
        "  \n",
        "\n",
        "k = [[0,0,0,0],[0,0,0,0],[0,0,0,0],[0,0,0,0]]\n",
        "msg = [[sp.Poly(x**7,modulus=2),0,0,0],[0,0,0,0],[0,0,0,0],[0,0,0,0]]\n",
        "print(AES_encrypt(msg,k))\n",
        "msg_encrypted  = AES_encrypt(msg,k)\n",
        "\n",
        "a = binary_conv(msg_encrypted)\n",
        "print(a)\n"
      ],
      "metadata": {
        "colab": {
          "base_uri": "https://localhost:8080/"
        },
        "id": "eNmUOZhzfQMi",
        "outputId": "9bfd0793-efff-4033-ee7d-f46f1183054a"
      },
      "execution_count": null,
      "outputs": [
        {
          "output_type": "stream",
          "name": "stdout",
          "text": [
            "[[Poly(x**5 + x**4 + x**3 + x, x, modulus=2), Poly(x**7 + x**6 + x**4 + x**2 + x + 1, x, modulus=2), Poly(x**7 + x**3 + x**2 + x, x, modulus=2), Poly(x**6 + x**5 + x**4 + x, x, modulus=2)], [Poly(x**6 + x**5 + x**3 + x**2, x, modulus=2), Poly(x**4 + x**3 + x**2 + x, x, modulus=2), Poly(x**7 + x**6, x, modulus=2), Poly(x**5 + x**3 + x + 1, x, modulus=2)], [Poly(x**6 + x**5 + x**4 + x**3 + x**2 + x, x, modulus=2), Poly(x**7 + x**5 + x**4 + x**3 + x**2 + x + 1, x, modulus=2), Poly(x**7 + x**6 + x**5 + x**3 + 1, x, modulus=2), Poly(x**5 + x**3 + x + 1, x, modulus=2)], [Poly(x**5 + x + 1, x, modulus=2), Poly(x**7 + x**6 + x**4 + x**3 + 1, x, modulus=2), Poly(x**7 + x**6 + x**5 + x**3 + x**2, x, modulus=2), Poly(x**5 + x**4 + x**2, x, modulus=2)]]\n",
            "[0, 0, 1, 1, 1, 0, 1, 0, 1, 1, 0, 1, 0, 1, 1, 1, 1, 0, 0, 0, 1, 1, 1, 0, 0, 1, 1, 1, 0, 0, 1, 0, 0, 1, 1, 0, 1, 1, 0, 0, 0, 0, 0, 1, 1, 1, 1, 0, 1, 1, 0, 0, 0, 0, 0, 0, 0, 0, 1, 0, 1, 0, 1, 1, 0, 1, 1, 1, 1, 1, 1, 0, 1, 0, 1, 1, 1, 1, 1, 1, 1, 1, 1, 0, 1, 0, 0, 1, 0, 0, 1, 0, 1, 0, 1, 1, 0, 0, 1, 0, 0, 0, 1, 1, 1, 1, 0, 1, 1, 0, 0, 1, 1, 1, 1, 0, 1, 1, 0, 0, 0, 0, 1, 1, 0, 1, 0, 0]\n"
          ]
        }
      ]
    },
    {
      "cell_type": "markdown",
      "source": [
        "AES step for decryption"
      ],
      "metadata": {
        "id": "WuFtFhXapX35"
      }
    },
    {
      "cell_type": "code",
      "execution_count": null,
      "metadata": {
        "id": "0aG63MbVz_Ua"
      },
      "outputs": [],
      "source": [
        "def AES_step_dec(state,key_n):\n",
        "  state_dec_n = [[tau(state[i][j],key_n[i][j]) for j in range(4)] for i in range(4)] # translation by key_n\n",
        "  \n",
        "  for i in range(4):\n",
        "      state_dec_n[i] = nu(state_dec_n[i])\n",
        "\n",
        "  state_dec_n = rho(rho(rho(state_dec_n))) # image under rho^3 = rho^-1\n",
        "\n",
        "\n",
        "  for i in range(4):\n",
        "    for j in range(4):\n",
        "      state_dec_n[i][j] = sigma_inv(state_dec_n[i][j]) # image under sigma^-1\n",
        "\n",
        "  return(state_dec_n)"
      ]
    },
    {
      "cell_type": "markdown",
      "source": [
        "Decryption"
      ],
      "metadata": {
        "id": "Z92aURPBpcWX"
      }
    },
    {
      "cell_type": "code",
      "execution_count": null,
      "metadata": {
        "id": "DS-JRaxexsRf",
        "colab": {
          "base_uri": "https://localhost:8080/"
        },
        "outputId": "43a25238-77ba-4520-e6fa-a4b086421853"
      },
      "outputs": [
        {
          "output_type": "stream",
          "name": "stdout",
          "text": [
            "[[Poly(x**7, x, modulus=2), 0, 0, 0], [0, 0, 0, 0], [0, 0, 0, 0], [0, 0, 0, 0]]\n",
            "[[Poly(x**7, x, domain='ZZ'), 0, 0, 0], [0, 0, 0, 0], [0, 0, 0, 0], [0, 0, 0, 0]]\n"
          ]
        }
      ],
      "source": [
        "def AES_decrypt(state,key):\n",
        "  key_aes = state_gen(key) # generate full sequence (wj) from the key\n",
        "  state_dec_aes = state\n",
        "  key_aes_n = [[key_aes[4*i],key_aes[4*i+1],key_aes[4*i+2],key_aes[4*i+3]] for i in range(11)]\n",
        "  \n",
        "  state_dec_aes = [[tau(state[i][j],key_aes_n[10][i][j]) for j in range(4)] for i in range(4)]\n",
        "\n",
        "  state_dec_aes = rho(rho(rho(state_dec_aes)))\n",
        "\n",
        "  for i in range(4):\n",
        "    for j in range(4):\n",
        "      state_dec_aes[i][j] = sigma_inv(state_dec_aes[i][j])\n",
        "\n",
        "\n",
        "  for j in range(9):\n",
        "    i = 9-j \n",
        "    state_dec_aes = AES_step_dec(state_dec_aes,key_aes_n[i])\n",
        "\n",
        "  state_dec_aes = [[tau(state_dec_aes[i][j],key_aes_n[0][i][j]) for j in range(4)] for i in range(4)]\n",
        "\n",
        "\n",
        "  \n",
        "\n",
        "  return(state_dec_aes)\n",
        "\n",
        "print(msg)\n",
        "print(AES_decrypt(msg_encrypted,k)) #decrypting the encrypted message from earlier"
      ]
    },
    {
      "cell_type": "code",
      "source": [
        "# as a state:\n",
        "Hello_World = [[sp.Poly(x**6+x**3,x,modulus=2),sp.Poly(x**6+x**5+x**2+1,x,modulus=2),sp.Poly(x**6+x**5+x**3+x**2,x,modulus=2),sp.Poly(x**6+x**5+x**3+x**2,x,modulus=2)],[sp.Poly(x**6+x**5+x**3+x**2+x+1,x,modulus=2),sp.Poly(x**5,x,modulus=2),sp.Poly(x**6+x**4+x**2+x+1,x,modulus=2),sp.Poly(x**6+x**5+x**3+x**2+x+1,x,modulus=2)],[sp.Poly(x**6+x**5+x**4+x,x,modulus=2),sp.Poly(x**6+x**5+x**3+x**2,x,modulus=2),sp.Poly(x**6+x**5+x**2,x,modulus=2),sp.Poly(x**5,x,modulus=2),],[sp.Poly(x**5,x,modulus=2),sp.Poly(x**5,x,modulus=2),sp.Poly(x**5,x,modulus=2),sp.Poly(x**5,x,modulus=2)]]\n",
        "a = [sp.Poly(x**2+x+1,modulus=2), sp.Poly(x**2+x+1,modulus=2), sp.Poly(x**2+x+1,modulus=2),sp.Poly(x**2+x+1,modulus=2)]\n",
        "b = [sp.Poly(x**4+x**3+1, modulus=2), sp.Poly(x**4+x**3+1, modulus=2), sp.Poly(x**4+x**3+1, modulus=2), sp.Poly(x**4+x**3+1, modulus=2)]\n",
        "c = [sp.Poly(x**5+x**4+x**2+1, modulus=2), sp.Poly(x**5+x**4+x**2+1, modulus=2),sp.Poly(x**5+x**4+x**2+1, modulus=2),sp.Poly(x**5+x**4+x**2+1, modulus=2)]\n",
        "d = [sp.Poly(x**7+1, modulus=2),sp.Poly(x**7+1, modulus=2),sp.Poly(x**7+1, modulus=2),sp.Poly(x**7+1, modulus=2)]\n",
        "key = [a,b,c,d] #creating key from words\n",
        "Word_enc = AES_encrypt(Hello_World,key)\n",
        "print(binary_conv(Word_enc))\n",
        "Word = AES_decrypt(Word_enc,key)\n",
        "print(binary_conv(Word))\n"
      ],
      "metadata": {
        "colab": {
          "base_uri": "https://localhost:8080/"
        },
        "id": "Zcl8VdDiTID-",
        "outputId": "0aaa1e19-f5cf-4e70-fbc7-3d7863945f60"
      },
      "execution_count": null,
      "outputs": [
        {
          "output_type": "stream",
          "name": "stdout",
          "text": [
            "[0, 1, 1, 0, 1, 1, 0, 1, 0, 0, 0, 0, 0, 0, 1, 0, 0, 0, 1, 0, 1, 1, 1, 0, 1, 0, 1, 1, 0, 0, 1, 0, 0, 1, 0, 0, 1, 1, 1, 0, 0, 1, 0, 1, 1, 0, 1, 1, 0, 1, 1, 0, 1, 0, 1, 1, 1, 1, 1, 1, 1, 1, 1, 0, 0, 1, 1, 1, 0, 0, 0, 1, 1, 1, 1, 1, 0, 0, 1, 1, 1, 0, 0, 1, 1, 1, 1, 0, 1, 1, 1, 0, 1, 0, 1, 1, 1, 1, 0, 0, 1, 1, 0, 1, 1, 1, 1, 1, 1, 0, 0, 1, 1, 0, 0, 0, 0, 1, 0, 0, 0, 0, 1, 0, 1, 0, 1, 1]\n",
            "[0, 1, 0, 0, 1, 0, 0, 0, 0, 1, 1, 0, 0, 1, 0, 1, 0, 1, 1, 0, 1, 1, 0, 0, 0, 1, 1, 0, 1, 1, 0, 0, 0, 1, 1, 0, 1, 1, 1, 1, 0, 0, 1, 0, 0, 0, 0, 0, 0, 1, 0, 1, 0, 1, 1, 1, 0, 1, 1, 0, 1, 1, 1, 1, 0, 1, 1, 1, 0, 0, 1, 0, 0, 1, 1, 0, 1, 1, 0, 0, 0, 1, 1, 0, 0, 1, 0, 0, 0, 0, 1, 0, 0, 0, 0, 0, 0, 0, 1, 0, 0, 0, 0, 0, 0, 0, 1, 0, 0, 0, 0, 0, 0, 0, 1, 0, 0, 0, 0, 0, 0, 0, 1, 0, 0, 0, 0, 0]\n"
          ]
        }
      ]
    }
  ],
  "metadata": {
    "colab": {
      "provenance": []
    },
    "kernelspec": {
      "display_name": "Python 3",
      "name": "python3"
    },
    "language_info": {
      "name": "python"
    }
  },
  "nbformat": 4,
  "nbformat_minor": 0
}